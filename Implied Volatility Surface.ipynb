{
 "cells": [
  {
   "cell_type": "code",
   "execution_count": 92,
   "id": "358a2478",
   "metadata": {},
   "outputs": [],
   "source": [
    "#import the required packages\n",
    "import matplotlib.pyplot as plt\n",
    "import yfinance as yf\n",
    "import numpy as np\n",
    "import pandas as pd\n",
    "from mpl_toolkits import mplot3d\n",
    "from datetime import datetime\n",
    "from itertools import chain\n",
    "from matplotlib import cm\n",
    "import plotly.graph_objects as go\n",
    "\n",
    "from IPython.core.interactiveshell import InteractiveShell\n",
    "InteractiveShell.ast_node_interactivity = \"all\""
   ]
  },
  {
   "cell_type": "markdown",
   "id": "8bdada6b",
   "metadata": {},
   "source": [
    "### Fixed 3-D Surface"
   ]
  },
  {
   "cell_type": "code",
   "execution_count": 93,
   "id": "1e39f86c",
   "metadata": {},
   "outputs": [
    {
     "data": {
      "text/plain": [
       "yfinance.Ticker object <AAPL>"
      ]
     },
     "execution_count": 93,
     "metadata": {},
     "output_type": "execute_result"
    },
    {
     "data": {
      "text/plain": [
       "['2022-12-30',\n",
       " '2023-01-06',\n",
       " '2023-01-13',\n",
       " '2023-01-20',\n",
       " '2023-01-27',\n",
       " '2023-02-03',\n",
       " '2023-02-17',\n",
       " '2023-03-17',\n",
       " '2023-04-21',\n",
       " '2023-05-19',\n",
       " '2023-06-16',\n",
       " '2023-07-21',\n",
       " '2023-09-15',\n",
       " '2023-10-20',\n",
       " '2023-12-15',\n",
       " '2024-01-19',\n",
       " '2024-03-15',\n",
       " '2024-06-21',\n",
       " '2025-01-17']"
      ]
     },
     "execution_count": 93,
     "metadata": {},
     "output_type": "execute_result"
    }
   ],
   "source": [
    "#choose a stock and scrape the data from yahoo finance\n",
    "stock_ticker = \"AAPL\"\n",
    "stock = yf.Ticker(stock_ticker)\n",
    "stock\n",
    "\n",
    "#find all the maturities and store them\n",
    "maturity_lst = list(stock.options)\n",
    "maturity_lst"
   ]
  },
  {
   "cell_type": "code",
   "execution_count": null,
   "id": "6351f99d",
   "metadata": {},
   "outputs": [
    {
     "data": {
      "text/plain": [
       "datetime.date(2022, 12, 25)"
      ]
     },
     "execution_count": 94,
     "metadata": {},
     "output_type": "execute_result"
    }
   ],
   "source": [
    "#get current date\n",
    "today = datetime.now().date()\n",
    "today\n",
    "\n",
    "#days left to expiration list\n",
    "DTE_lst = []\n",
    "\n",
    "#empty list to store data for calls\n",
    "calls_data_lst = []\n",
    "\n",
    "#loop over maturities\n",
    "for maturity in maturity_lst:\n",
    "    #maturity dates\n",
    "    maturity_date = datetime.strptime(maturity, '%Y-%m-%d').date()\n",
    "    #calculate DTE: difference between maturity date and today\n",
    "    DTE_lst.append((maturity_date - today).days)\n",
    "    #store calls data for all the expirations\n",
    "    calls_data_lst.append(stock.option_chain(maturity).calls)"
   ]
  },
  {
   "cell_type": "code",
   "execution_count": null,
   "id": "1a20b97d",
   "metadata": {},
   "outputs": [],
   "source": [
    "#create empty lists to contain unlisted data\n",
    "strike_lst = []\n",
    "DTE_lst_extended = []\n",
    "iml_vol_lst = []\n",
    "for i in range(0,len(calls_data_lst)):\n",
    "    #append strikes to list\n",
    "    strike_lst.append(calls_data_lst[i][\"strike\"])\n",
    "    #repeat DTE so the list has same length as the other lists\n",
    "    DTE_lst_extended.append(np.repeat(DTE_lst[i], len(calls_data_lst[i])))\n",
    "    #append implied volatilities to list\n",
    "    iml_vol_lst.append(calls_data_lst[i][\"impliedVolatility\"])\n"
   ]
  },
  {
   "cell_type": "code",
   "execution_count": null,
   "id": "f880c87b",
   "metadata": {},
   "outputs": [],
   "source": [
    "#unlist 3 list\n",
    "strike_lst = list(chain(*strike_lst))\n",
    "DTE_lst_extended = list(chain(*DTE_lst_extended))\n",
    "iml_vol_lst = list(chain(*iml_vol_lst))"
   ]
  },
  {
   "cell_type": "code",
   "execution_count": 98,
   "id": "d3919d70",
   "metadata": {},
   "outputs": [
    {
     "data": {
      "text/plain": [
       "<mpl_toolkits.mplot3d.art3d.Poly3DCollection at 0x7fe984963b20>"
      ]
     },
     "execution_count": 98,
     "metadata": {},
     "output_type": "execute_result"
    },
    {
     "data": {
      "text/plain": [
       "Text(0.5, 0, 'Strike')"
      ]
     },
     "execution_count": 98,
     "metadata": {},
     "output_type": "execute_result"
    },
    {
     "data": {
      "text/plain": [
       "Text(0.5, 0.5, 'DTE')"
      ]
     },
     "execution_count": 98,
     "metadata": {},
     "output_type": "execute_result"
    },
    {
     "data": {
      "text/plain": [
       "Text(0.5, 0.92, 'Volatility Surface for $AAPL: Implied volatility as a function of strike and days to expiration')"
      ]
     },
     "execution_count": 98,
     "metadata": {},
     "output_type": "execute_result"
    }
   ],
   "source": [
    "#add interactiveness for the graph in a seperate window\n",
    "%matplotlib qt \n",
    "\n",
    "#plot figure\n",
    "fig = plt.figure(figsize=(10,10))\n",
    "axs = plt.axes(projection=\"3d\")\n",
    "axs.plot_trisurf(strike_lst, DTE_lst_extended, iml_vol_lst, cmap=cm.jet)\n",
    "\n",
    "#set angle\n",
    "axs.view_init(20, 55)\n",
    "\n",
    "#add labels\n",
    "plt.xlabel(\"Strike\")\n",
    "plt.ylabel(\"DTE\")\n",
    "plt.title(\"Volatility Surface for $\"+stock_ticker+\": Implied volatility as a function of strike and days to expiration\")\n",
    "plt.show()"
   ]
  },
  {
   "cell_type": "code",
   "execution_count": null,
   "id": "04d15e7d",
   "metadata": {},
   "outputs": [],
   "source": []
  }
 ],
 "metadata": {
  "kernelspec": {
   "display_name": "Python 3 (ipykernel)",
   "language": "python",
   "name": "python3"
  },
  "language_info": {
   "codemirror_mode": {
    "name": "ipython",
    "version": 3
   },
   "file_extension": ".py",
   "mimetype": "text/x-python",
   "name": "python",
   "nbconvert_exporter": "python",
   "pygments_lexer": "ipython3",
   "version": "3.9.12"
  }
 },
 "nbformat": 4,
 "nbformat_minor": 5
}
